{
 "cells": [
  {
   "cell_type": "markdown",
   "source": [
    "## Gather"
   ],
   "metadata": {
    "collapsed": false,
    "pycharm": {
     "name": "#%% md\n"
    }
   }
  },
  {
   "cell_type": "code",
   "execution_count": 2,
   "outputs": [],
   "source": [
    "import pandas as pd\n",
    "import numpy as np\n",
    "import os\n",
    "\n",
    "#load twitter-archive-enhanced.csv into twitter_archive_df\n",
    "twitter_archive_df = pd.read_csv('twitter-archive-enhanced.csv')"
   ],
   "metadata": {
    "collapsed": false,
    "pycharm": {
     "name": "#%%\n"
    }
   }
  },
  {
   "cell_type": "code",
   "execution_count": null,
   "outputs": [],
   "source": [
    "#using Python's Tweepy library and store each tweet's entire set of JSON\n",
    "#data in a file called tweet_json.txt file.\n",
    "\n",
    "import tweepy\n",
    "\n",
    "consumer_key = 'oni8ldMq6eWdFqmzEkKNxXeb0'\n",
    "consumer_secret = 'vNt4abBD2o9tCmxdtgshuNI3PdDyFjKIL3u9KYfeGAHrytR1l2'\n",
    "access_token = '1502948607590293511-9Svf54OCv9yQm2itxQmFems5SCU3Tg'\n",
    "access_secret = 'bw1lyprOfhEAGzRRxF2n3l3Je39YBvTjdMJdTiaObIMfn'\n",
    "\n",
    "auth = tweepy.OAuthHandler(consumer_key, consumer_secret)\n",
    "auth.set_access_token(access_token, access_secret)\n",
    "\n",
    "api = tweepy.API(auth, wait_on_rate_limit=True)\n",
    "\n",
    "import json\n",
    "\n",
    "page_no_exist = []\n",
    "retweet_count_and_favorite_count = []\n",
    "\n",
    "with open('tweet_json.txt', mode=\"w\") as file:\n",
    "    for i in list(twitter_archive_df.tweet_id):\n",
    "        try:\n",
    "            tweet = api.get_status(str(i))\n",
    "            file.write(json.dumps(tweet._json))\n",
    "            retweet_count_and_favorite_count.append({\n",
    "                \"tweet_id\" : str(i),\n",
    "                \"retweet_count\" : tweet._json['retweet_count'],\n",
    "                \"favorite_count\" : tweet._json['favorite_count']\n",
    "            })\n",
    "        except:\n",
    "            page_no_exist.append(i)"
   ],
   "metadata": {
    "collapsed": false,
    "pycharm": {
     "name": "#%%\n",
     "is_executing": true
    }
   }
  },
  {
   "cell_type": "code",
   "execution_count": null,
   "outputs": [],
   "source": [],
   "metadata": {
    "collapsed": false,
    "pycharm": {
     "name": "#%%\n"
    }
   }
  },
  {
   "cell_type": "code",
   "execution_count": null,
   "outputs": [],
   "source": [],
   "metadata": {
    "collapsed": false,
    "pycharm": {
     "name": "#%%\n"
    }
   }
  },
  {
   "cell_type": "code",
   "execution_count": null,
   "outputs": [],
   "source": [],
   "metadata": {
    "collapsed": false,
    "pycharm": {
     "name": "#%%\n"
    }
   }
  },
  {
   "cell_type": "code",
   "execution_count": null,
   "outputs": [],
   "source": [],
   "metadata": {
    "collapsed": false,
    "pycharm": {
     "name": "#%%\n"
    }
   }
  }
 ],
 "metadata": {
  "kernelspec": {
   "display_name": "Python 3",
   "language": "python",
   "name": "python3"
  },
  "language_info": {
   "codemirror_mode": {
    "name": "ipython",
    "version": 2
   },
   "file_extension": ".py",
   "mimetype": "text/x-python",
   "name": "python",
   "nbconvert_exporter": "python",
   "pygments_lexer": "ipython2",
   "version": "2.7.6"
  }
 },
 "nbformat": 4,
 "nbformat_minor": 0
}